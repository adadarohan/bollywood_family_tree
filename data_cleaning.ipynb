{
 "cells": [
  {
   "cell_type": "code",
   "execution_count": 1,
   "metadata": {},
   "outputs": [],
   "source": [
    "import json \n",
    "\n",
    "\n",
    "with open('data.json') as f:\n",
    "    data = json.load(f)"
   ]
  },
  {
   "cell_type": "code",
   "execution_count": 2,
   "metadata": {},
   "outputs": [],
   "source": [
    "import pandas as pd\n",
    "pd.options.mode.copy_on_write = True\n",
    "\n",
    "nodes_df = pd.DataFrame(data['nodes'])\n",
    "edges_df = pd.DataFrame(data['links'])"
   ]
  },
  {
   "cell_type": "markdown",
   "metadata": {},
   "source": [
    "## Clean Nodes"
   ]
  },
  {
   "cell_type": "code",
   "execution_count": 3,
   "metadata": {},
   "outputs": [
    {
     "name": "stdout",
     "output_type": "stream",
     "text": [
      "860\n",
      "859\n"
     ]
    },
    {
     "data": {
      "text/html": [
       "<div>\n",
       "<style scoped>\n",
       "    .dataframe tbody tr th:only-of-type {\n",
       "        vertical-align: middle;\n",
       "    }\n",
       "\n",
       "    .dataframe tbody tr th {\n",
       "        vertical-align: top;\n",
       "    }\n",
       "\n",
       "    .dataframe thead th {\n",
       "        text-align: right;\n",
       "    }\n",
       "</style>\n",
       "<table border=\"1\" class=\"dataframe\">\n",
       "  <thead>\n",
       "    <tr style=\"text-align: right;\">\n",
       "      <th></th>\n",
       "      <th>name</th>\n",
       "      <th>group</th>\n",
       "      <th>nodesize</th>\n",
       "    </tr>\n",
       "  </thead>\n",
       "  <tbody>\n",
       "    <tr>\n",
       "      <th>0</th>\n",
       "      <td>Nageswara Rao Akkineni</td>\n",
       "      <td>actor</td>\n",
       "      <td>3</td>\n",
       "    </tr>\n",
       "    <tr>\n",
       "      <th>1</th>\n",
       "      <td>Jagdeep Jaffrey</td>\n",
       "      <td>actor</td>\n",
       "      <td>1</td>\n",
       "    </tr>\n",
       "    <tr>\n",
       "      <th>2</th>\n",
       "      <td>Meenakshi Shirodkar</td>\n",
       "      <td>actor</td>\n",
       "      <td>1</td>\n",
       "    </tr>\n",
       "    <tr>\n",
       "      <th>3</th>\n",
       "      <td>Shilpa Shirodkar</td>\n",
       "      <td>actor</td>\n",
       "      <td>2</td>\n",
       "    </tr>\n",
       "    <tr>\n",
       "      <th>4</th>\n",
       "      <td>Namrata Shirodkar</td>\n",
       "      <td>actor</td>\n",
       "      <td>3</td>\n",
       "    </tr>\n",
       "  </tbody>\n",
       "</table>\n",
       "</div>"
      ],
      "text/plain": [
       "                     name  group nodesize\n",
       "0  Nageswara Rao Akkineni  actor        3\n",
       "1         Jagdeep Jaffrey  actor        1\n",
       "2     Meenakshi Shirodkar  actor        1\n",
       "3        Shilpa Shirodkar  actor        2\n",
       "4       Namrata Shirodkar  actor        3"
      ]
     },
     "execution_count": 3,
     "metadata": {},
     "output_type": "execute_result"
    }
   ],
   "source": [
    "print(len(nodes_df))\n",
    "# Drop duplicates based on the name column\n",
    "new_nodes_df = nodes_df.drop_duplicates(subset='name')\n",
    "print(len(new_nodes_df))\n",
    "new_nodes_df.head()"
   ]
  },
  {
   "cell_type": "code",
   "execution_count": 4,
   "metadata": {},
   "outputs": [
    {
     "data": {
      "text/html": [
       "<div>\n",
       "<style scoped>\n",
       "    .dataframe tbody tr th:only-of-type {\n",
       "        vertical-align: middle;\n",
       "    }\n",
       "\n",
       "    .dataframe tbody tr th {\n",
       "        vertical-align: top;\n",
       "    }\n",
       "\n",
       "    .dataframe thead th {\n",
       "        text-align: right;\n",
       "    }\n",
       "</style>\n",
       "<table border=\"1\" class=\"dataframe\">\n",
       "  <thead>\n",
       "    <tr style=\"text-align: right;\">\n",
       "      <th></th>\n",
       "      <th>name</th>\n",
       "      <th>group</th>\n",
       "      <th>nodesize</th>\n",
       "    </tr>\n",
       "  </thead>\n",
       "  <tbody>\n",
       "    <tr>\n",
       "      <th>0</th>\n",
       "      <td>Nageswara Rao Akkineni</td>\n",
       "      <td>actor</td>\n",
       "      <td>3</td>\n",
       "    </tr>\n",
       "    <tr>\n",
       "      <th>1</th>\n",
       "      <td>Jagdeep Jaffrey</td>\n",
       "      <td>actor</td>\n",
       "      <td>1</td>\n",
       "    </tr>\n",
       "    <tr>\n",
       "      <th>2</th>\n",
       "      <td>Meenakshi Shirodkar</td>\n",
       "      <td>actor</td>\n",
       "      <td>1</td>\n",
       "    </tr>\n",
       "    <tr>\n",
       "      <th>3</th>\n",
       "      <td>Shilpa Shirodkar</td>\n",
       "      <td>actor</td>\n",
       "      <td>2</td>\n",
       "    </tr>\n",
       "    <tr>\n",
       "      <th>4</th>\n",
       "      <td>Namrata Shirodkar</td>\n",
       "      <td>actor</td>\n",
       "      <td>3</td>\n",
       "    </tr>\n",
       "  </tbody>\n",
       "</table>\n",
       "</div>"
      ],
      "text/plain": [
       "                     name  group nodesize\n",
       "0  Nageswara Rao Akkineni  actor        3\n",
       "1         Jagdeep Jaffrey  actor        1\n",
       "2     Meenakshi Shirodkar  actor        1\n",
       "3        Shilpa Shirodkar  actor        2\n",
       "4       Namrata Shirodkar  actor        3"
      ]
     },
     "execution_count": 4,
     "metadata": {},
     "output_type": "execute_result"
    }
   ],
   "source": [
    "# make all names lowercase and strip whitespace\n",
    "new_nodes_df['name'] = new_nodes_df['name'].str.strip()\n",
    "new_nodes_df.head()"
   ]
  },
  {
   "cell_type": "markdown",
   "metadata": {},
   "source": [
    "## Clean Edges"
   ]
  },
  {
   "cell_type": "code",
   "execution_count": 5,
   "metadata": {},
   "outputs": [
    {
     "name": "stdout",
     "output_type": "stream",
     "text": [
      "940\n",
      "922\n"
     ]
    },
    {
     "data": {
      "text/html": [
       "<div>\n",
       "<style scoped>\n",
       "    .dataframe tbody tr th:only-of-type {\n",
       "        vertical-align: middle;\n",
       "    }\n",
       "\n",
       "    .dataframe tbody tr th {\n",
       "        vertical-align: top;\n",
       "    }\n",
       "\n",
       "    .dataframe thead th {\n",
       "        text-align: right;\n",
       "    }\n",
       "</style>\n",
       "<table border=\"1\" class=\"dataframe\">\n",
       "  <thead>\n",
       "    <tr style=\"text-align: right;\">\n",
       "      <th></th>\n",
       "      <th>source</th>\n",
       "      <th>target</th>\n",
       "      <th>relation</th>\n",
       "    </tr>\n",
       "  </thead>\n",
       "  <tbody>\n",
       "    <tr>\n",
       "      <th>0</th>\n",
       "      <td>Balwantrao Abhisheki</td>\n",
       "      <td>Jitendra Abhisheki</td>\n",
       "      <td>parent-child</td>\n",
       "    </tr>\n",
       "    <tr>\n",
       "      <th>1</th>\n",
       "      <td>Balwantrao Abhisheki</td>\n",
       "      <td>Dinanath Mangeshkar</td>\n",
       "      <td>sibling</td>\n",
       "    </tr>\n",
       "    <tr>\n",
       "      <th>2</th>\n",
       "      <td>Jitendra Abhisheki</td>\n",
       "      <td>Shounak Abhisheki</td>\n",
       "      <td>parent-child</td>\n",
       "    </tr>\n",
       "    <tr>\n",
       "      <th>3</th>\n",
       "      <td>B. K. Adarsh</td>\n",
       "      <td>Taran Adarsh</td>\n",
       "      <td>parent-child</td>\n",
       "    </tr>\n",
       "    <tr>\n",
       "      <th>4</th>\n",
       "      <td>Alvira Khan Agnihotri</td>\n",
       "      <td>Salman Khan</td>\n",
       "      <td>sibling</td>\n",
       "    </tr>\n",
       "  </tbody>\n",
       "</table>\n",
       "</div>"
      ],
      "text/plain": [
       "                  source               target      relation\n",
       "0   Balwantrao Abhisheki   Jitendra Abhisheki  parent-child\n",
       "1   Balwantrao Abhisheki  Dinanath Mangeshkar       sibling\n",
       "2     Jitendra Abhisheki    Shounak Abhisheki  parent-child\n",
       "3           B. K. Adarsh         Taran Adarsh  parent-child\n",
       "4  Alvira Khan Agnihotri          Salman Khan       sibling"
      ]
     },
     "execution_count": 5,
     "metadata": {},
     "output_type": "execute_result"
    }
   ],
   "source": [
    "print(len(edges_df))\n",
    "# Drop duplicates based on the source and target columns\n",
    "new_edges_df = edges_df.drop_duplicates(subset=['source', 'target'])\n",
    "print(len(new_edges_df))\n",
    "new_edges_df.head()"
   ]
  },
  {
   "cell_type": "code",
   "execution_count": 6,
   "metadata": {},
   "outputs": [
    {
     "data": {
      "text/html": [
       "<div>\n",
       "<style scoped>\n",
       "    .dataframe tbody tr th:only-of-type {\n",
       "        vertical-align: middle;\n",
       "    }\n",
       "\n",
       "    .dataframe tbody tr th {\n",
       "        vertical-align: top;\n",
       "    }\n",
       "\n",
       "    .dataframe thead th {\n",
       "        text-align: right;\n",
       "    }\n",
       "</style>\n",
       "<table border=\"1\" class=\"dataframe\">\n",
       "  <thead>\n",
       "    <tr style=\"text-align: right;\">\n",
       "      <th></th>\n",
       "      <th>source</th>\n",
       "      <th>target</th>\n",
       "      <th>relation</th>\n",
       "    </tr>\n",
       "  </thead>\n",
       "  <tbody>\n",
       "    <tr>\n",
       "      <th>0</th>\n",
       "      <td>Balwantrao Abhisheki</td>\n",
       "      <td>Jitendra Abhisheki</td>\n",
       "      <td>parent-child</td>\n",
       "    </tr>\n",
       "    <tr>\n",
       "      <th>1</th>\n",
       "      <td>Balwantrao Abhisheki</td>\n",
       "      <td>Dinanath Mangeshkar</td>\n",
       "      <td>sibling</td>\n",
       "    </tr>\n",
       "    <tr>\n",
       "      <th>2</th>\n",
       "      <td>Jitendra Abhisheki</td>\n",
       "      <td>Shounak Abhisheki</td>\n",
       "      <td>parent-child</td>\n",
       "    </tr>\n",
       "    <tr>\n",
       "      <th>3</th>\n",
       "      <td>B. K. Adarsh</td>\n",
       "      <td>Taran Adarsh</td>\n",
       "      <td>parent-child</td>\n",
       "    </tr>\n",
       "    <tr>\n",
       "      <th>4</th>\n",
       "      <td>Alvira Khan Agnihotri</td>\n",
       "      <td>Salman Khan</td>\n",
       "      <td>sibling</td>\n",
       "    </tr>\n",
       "  </tbody>\n",
       "</table>\n",
       "</div>"
      ],
      "text/plain": [
       "                  source               target      relation\n",
       "0   Balwantrao Abhisheki   Jitendra Abhisheki  parent-child\n",
       "1   Balwantrao Abhisheki  Dinanath Mangeshkar       sibling\n",
       "2     Jitendra Abhisheki    Shounak Abhisheki  parent-child\n",
       "3           B. K. Adarsh         Taran Adarsh  parent-child\n",
       "4  Alvira Khan Agnihotri          Salman Khan       sibling"
      ]
     },
     "execution_count": 6,
     "metadata": {},
     "output_type": "execute_result"
    }
   ],
   "source": [
    "# make all names lowercase and strip whitespace\n",
    "new_edges_df['source'] = new_edges_df['source'].str.strip()\n",
    "new_edges_df['target'] = new_edges_df['target'].str.strip()\n",
    "new_edges_df.head()"
   ]
  },
  {
   "cell_type": "markdown",
   "metadata": {},
   "source": [
    "## Save Data"
   ]
  },
  {
   "cell_type": "code",
   "execution_count": 7,
   "metadata": {},
   "outputs": [],
   "source": [
    "#save the cleaned data in its original format\n",
    "data['nodes'] = new_nodes_df.to_dict(orient='records')\n",
    "data['links'] = new_edges_df.to_dict(orient='records')\n",
    "# save as json\n",
    "with open('cleaned_data.json', 'w') as f:\n",
    "    json.dump(data, f, indent=4)"
   ]
  }
 ],
 "metadata": {
  "kernelspec": {
   "display_name": "Python 3",
   "language": "python",
   "name": "python3"
  },
  "language_info": {
   "codemirror_mode": {
    "name": "ipython",
    "version": 3
   },
   "file_extension": ".py",
   "mimetype": "text/x-python",
   "name": "python",
   "nbconvert_exporter": "python",
   "pygments_lexer": "ipython3",
   "version": "3.10.13"
  }
 },
 "nbformat": 4,
 "nbformat_minor": 2
}
