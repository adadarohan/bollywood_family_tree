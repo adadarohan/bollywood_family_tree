{
 "cells": [
  {
   "cell_type": "code",
   "execution_count": 10,
   "metadata": {},
   "outputs": [],
   "source": [
    "import pandas as pd"
   ]
  },
  {
   "cell_type": "code",
   "execution_count": 11,
   "metadata": {},
   "outputs": [],
   "source": [
    "# Load edges and people csv files\n",
    "edges = pd.read_csv('edges.csv')\n",
    "people = pd.read_csv('people.csv')"
   ]
  },
  {
   "cell_type": "code",
   "execution_count": 12,
   "metadata": {},
   "outputs": [],
   "source": [
    "# Process edges\n",
    "# Delete all cols other than \"source_id\", \"target_id\" and \"relation\"\n",
    "edges = edges[['source_id', 'target_id', 'relation']]\n",
    "# Save as json\n",
    "edges.to_json('edges.json', orient='records')\n",
    "\n",
    "# Process people\n",
    "# Delete all cols other than \"id\", \"first_name\", \"last_name\"\n",
    "people = people[['id', 'first_name', 'last_name']]\n",
    "# Sort by ID to help with binary search in frontend and save as json\n",
    "people = people.sort_values(by='id')\n",
    "people.to_json('nodes.json', orient='records')"
   ]
  }
 ],
 "metadata": {
  "kernelspec": {
   "display_name": "Python 3",
   "language": "python",
   "name": "python3"
  },
  "language_info": {
   "codemirror_mode": {
    "name": "ipython",
    "version": 3
   },
   "file_extension": ".py",
   "mimetype": "text/x-python",
   "name": "python",
   "nbconvert_exporter": "python",
   "pygments_lexer": "ipython3",
   "version": "3.10.13"
  }
 },
 "nbformat": 4,
 "nbformat_minor": 2
}
